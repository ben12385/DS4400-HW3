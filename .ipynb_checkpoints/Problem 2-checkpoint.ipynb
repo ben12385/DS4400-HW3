{
 "cells": [
  {
   "cell_type": "code",
   "execution_count": 1,
   "metadata": {},
   "outputs": [
    {
     "name": "stdout",
     "output_type": "stream",
     "text": [
      "Data Preped\n"
     ]
    }
   ],
   "source": [
    "#Extract Data\n",
    "import numpy as np\n",
    "import random\n",
    "import copy\n",
    "\n",
    "datasetFile = open('./spambase.data', 'r')\n",
    "\n",
    "spam = list()\n",
    "notSpam = list()\n",
    "\n",
    "\n",
    "for line in datasetFile:\n",
    "    splitedLine = line.split(',')\n",
    "    for a in range(0, len(splitedLine)):\n",
    "        splitedLine[a] = float(splitedLine[a])\n",
    "    if(splitedLine[-1] == 1):\n",
    "        spam.append(splitedLine)\n",
    "    else:\n",
    "        notSpam.append(splitedLine)\n",
    "\n",
    "#Randomize\n",
    "random.shuffle(spam)\n",
    "random.shuffle(notSpam)\n",
    "\n",
    "training = copy.deepcopy(spam[0:1359])\n",
    "\n",
    "notSpamTraining = copy.deepcopy(notSpam[0:2091])\n",
    "training.extend(notSpamTraining)\n",
    "\n",
    "testing = copy.deepcopy(spam[1359:-1])\n",
    "\n",
    "notSpamTesting = copy.deepcopy(notSpam[2091:-1])\n",
    "testing.extend(notSpamTesting)\n",
    "\n",
    "random.shuffle(training)\n",
    "random.shuffle(testing)\n",
    "\n",
    "trainingX = list()\n",
    "trainingY = list()\n",
    "for row in training:\n",
    "    trainingX.append(row[:-1])\n",
    "    trainingY.append(row[-1])\n",
    "trainingX = np.array(trainingX)\n",
    "\n",
    "\n",
    "trainingY = np.array(trainingY)\n",
    "    \n",
    "trainingX = np.array([row[:-1] for row in training])\n",
    "trainingY = np.array([row[-1] for row in training])\n",
    "\n",
    "testingX = np.array([row[:-1] for row in testing])\n",
    "testingY = np.array([row[-1] for row in testing])\n",
    "\n",
    "print(\"Data Preped\")"
   ]
  },
  {
   "cell_type": "code",
   "execution_count": 7,
   "metadata": {},
   "outputs": [
    {
     "name": "stdout",
     "output_type": "stream",
     "text": [
      "Adaboost using Decision Tree\n",
      "For training set\n",
      "Accuracy 0.95\n",
      "Error 0.05\n",
      "Precision: 0.94\n",
      "Recall: 0.93\n",
      "\n",
      "For testing set\n",
      "Accuracy 0.94\n",
      "Error 0.06\n",
      "Precision: 0.94\n",
      "Recall: 0.90\n",
      "\n"
     ]
    }
   ],
   "source": [
    "from sklearn.ensemble import AdaBoostClassifier\n",
    "from sklearn import metrics\n",
    "\n",
    "adaboost = AdaBoostClassifier(n_estimators=50)\n",
    "adaboost.fit(trainingX, trainingY)\n",
    "\n",
    "print(\"Adaboost using Decision Tree\")\n",
    "#Metrics\n",
    "y_pred = adaboost.predict(trainingX)\n",
    "confMatrix = metrics.confusion_matrix(trainingY, y_pred)\n",
    "accuracy = (confMatrix[1][1]+confMatrix[0][0])/len(y_pred)\n",
    "precision = confMatrix[1][1]/(confMatrix[1][1]+confMatrix[0][1])\n",
    "recall = confMatrix[1][1]/(confMatrix[1][1]+confMatrix[1][0])\n",
    "print(\"For training set\")\n",
    "print(\"Accuracy %.2f\" % accuracy)\n",
    "print(\"Error %.2f\" % (1-accuracy))\n",
    "print(\"Precision: %.2f\" % precision)\n",
    "print(\"Recall: %.2f\" % recall)\n",
    "print()\n",
    "\n",
    "\n",
    "y_pred = adaboost.predict(testingX)\n",
    "confMatrix = metrics.confusion_matrix(testingY, y_pred)\n",
    "accuracy = (confMatrix[1][1]+confMatrix[0][0])/len(y_pred)\n",
    "precision = confMatrix[1][1]/(confMatrix[1][1]+confMatrix[0][1])\n",
    "recall = confMatrix[1][1]/(confMatrix[1][1]+confMatrix[1][0])\n",
    "print(\"For testing set\")\n",
    "print(\"Accuracy %.2f\" % accuracy)\n",
    "print(\"Error %.2f\" % (1-accuracy))\n",
    "print(\"Precision: %.2f\" % precision)\n",
    "print(\"Recall: %.2f\" % recall)\n",
    "print()"
   ]
  },
  {
   "cell_type": "code",
   "execution_count": 9,
   "metadata": {},
   "outputs": [
    {
     "name": "stdout",
     "output_type": "stream",
     "text": [
      "Adaboost using Decision Tree\n",
      "For training set\n",
      "Accuracy 0.92\n",
      "Error 0.08\n",
      "Precision: 0.92\n",
      "Recall: 0.88\n",
      "\n",
      "For testing set\n",
      "Accuracy 0.92\n",
      "Error 0.08\n",
      "Precision: 0.92\n",
      "Recall: 0.86\n",
      "\n"
     ]
    }
   ],
   "source": [
    "from sklearn.linear_model import LogisticRegression\n",
    "\n",
    "adaboost = AdaBoostClassifier(base_estimator=LogisticRegression(), n_estimators=50)\n",
    "adaboost.fit(trainingX, trainingY)\n",
    "\n",
    "print(\"Adaboost using Decision Tree\")\n",
    "#Metrics\n",
    "y_pred = adaboost.predict(trainingX)\n",
    "confMatrix = metrics.confusion_matrix(trainingY, y_pred)\n",
    "accuracy = (confMatrix[1][1]+confMatrix[0][0])/len(y_pred)\n",
    "precision = confMatrix[1][1]/(confMatrix[1][1]+confMatrix[0][1])\n",
    "recall = confMatrix[1][1]/(confMatrix[1][1]+confMatrix[1][0])\n",
    "print(\"For training set\")\n",
    "print(\"Accuracy %.2f\" % accuracy)\n",
    "print(\"Error %.2f\" % (1-accuracy))\n",
    "print(\"Precision: %.2f\" % precision)\n",
    "print(\"Recall: %.2f\" % recall)\n",
    "print()\n",
    "\n",
    "\n",
    "y_pred = adaboost.predict(testingX)\n",
    "confMatrix = metrics.confusion_matrix(testingY, y_pred)\n",
    "accuracy = (confMatrix[1][1]+confMatrix[0][0])/len(y_pred)\n",
    "precision = confMatrix[1][1]/(confMatrix[1][1]+confMatrix[0][1])\n",
    "recall = confMatrix[1][1]/(confMatrix[1][1]+confMatrix[1][0])\n",
    "print(\"For testing set\")\n",
    "print(\"Accuracy %.2f\" % accuracy)\n",
    "print(\"Error %.2f\" % (1-accuracy))\n",
    "print(\"Precision: %.2f\" % precision)\n",
    "print(\"Recall: %.2f\" % recall)\n",
    "print()"
   ]
  },
  {
   "cell_type": "code",
   "execution_count": 11,
   "metadata": {},
   "outputs": [
    {
     "name": "stdout",
     "output_type": "stream",
     "text": [
      "Adaboost using Decision Tree with 10 estimators\n",
      "For testing set\n",
      "Accuracy 0.91\n",
      "Error 0.09\n",
      "Precision: 0.91\n",
      "Recall: 0.86\n",
      "\n",
      "Adaboost using Decision Tree with 50 estimators\n",
      "For testing set\n",
      "Accuracy 0.94\n",
      "Error 0.06\n",
      "Precision: 0.94\n",
      "Recall: 0.90\n",
      "\n",
      "Adaboost using Decision Tree with 100 estimators\n",
      "For testing set\n",
      "Accuracy 0.94\n",
      "Error 0.06\n",
      "Precision: 0.94\n",
      "Recall: 0.91\n",
      "\n"
     ]
    }
   ],
   "source": [
    "for estimators in [10, 50 ,100]:\n",
    "    adaboost = AdaBoostClassifier(n_estimators=estimators)\n",
    "    adaboost.fit(trainingX, trainingY)\n",
    "    \n",
    "    print(\"Adaboost using Decision Tree with %d estimators\" % estimators)\n",
    "    #Metrics\n",
    "    y_pred = adaboost.predict(testingX)\n",
    "    confMatrix = metrics.confusion_matrix(testingY, y_pred)\n",
    "    accuracy = (confMatrix[1][1]+confMatrix[0][0])/len(y_pred)\n",
    "    precision = confMatrix[1][1]/(confMatrix[1][1]+confMatrix[0][1])\n",
    "    recall = confMatrix[1][1]/(confMatrix[1][1]+confMatrix[1][0])\n",
    "    print(\"For testing set\")\n",
    "    print(\"Accuracy %.4f\" % accuracy)\n",
    "    print(\"Error %.4f\" % (1-accuracy))\n",
    "    print(\"Precision: %.4f\" % precision)\n",
    "    print(\"Recall: %.4f\" % recall)\n",
    "    print()"
   ]
  },
  {
   "cell_type": "code",
   "execution_count": null,
   "metadata": {},
   "outputs": [],
   "source": []
  }
 ],
 "metadata": {
  "kernelspec": {
   "display_name": "Python 3",
   "language": "python",
   "name": "python3"
  },
  "language_info": {
   "codemirror_mode": {
    "name": "ipython",
    "version": 3
   },
   "file_extension": ".py",
   "mimetype": "text/x-python",
   "name": "python",
   "nbconvert_exporter": "python",
   "pygments_lexer": "ipython3",
   "version": "3.6.5"
  }
 },
 "nbformat": 4,
 "nbformat_minor": 2
}
