{
 "cells": [
  {
   "cell_type": "code",
   "execution_count": 2,
   "metadata": {},
   "outputs": [
    {
     "name": "stderr",
     "output_type": "stream",
     "text": [
      "C:\\Users\\Ben\\Anaconda3\\lib\\site-packages\\h5py\\__init__.py:36: FutureWarning: Conversion of the second argument of issubdtype from `float` to `np.floating` is deprecated. In future, it will be treated as `np.float64 == np.dtype(float).type`.\n",
      "  from ._conv import register_converters as _register_converters\n",
      "Using TensorFlow backend.\n"
     ]
    },
    {
     "name": "stdout",
     "output_type": "stream",
     "text": [
      "Training and Testing data prepped\n"
     ]
    }
   ],
   "source": [
    "from keras.models import Sequential\n",
    "from keras.layers import Dense\n",
    "from keras.datasets import mnist\n",
    "from sklearn.preprocessing import LabelEncoder\n",
    "from sklearn.preprocessing import OneHotEncoder\n",
    "import numpy as np\n",
    "\n",
    "(trainX, trainY), (testX, testY) = mnist.load_data()\n",
    "\n",
    "#Format training data\n",
    "trainX = np.reshape(trainX, (-1, 28*28))\n",
    "\n",
    "onehot_encoder = OneHotEncoder(sparse=False)\n",
    "trainY = trainY.reshape(len(trainY), 1)\n",
    "trainY = onehot_encoder.fit_transform(trainY)\n",
    "\n",
    "#Format testing data\n",
    "testX = np.reshape(testX, (-1, 28*28))\n",
    "\n",
    "onehot_encoder = OneHotEncoder(sparse=False)\n",
    "testY = testY.reshape(len(testY), 1)\n",
    "testY = onehot_encoder.fit_transform(testY)\n",
    "\n",
    "print(\"Training and Testing data prepped\")\n",
    "\n"
   ]
  },
  {
   "cell_type": "code",
   "execution_count": 4,
   "metadata": {},
   "outputs": [
    {
     "name": "stdout",
     "output_type": "stream",
     "text": [
      "Epoch 1/5\n",
      "60000/60000 [==============================] - 21s 357us/step - loss: 1.6207 - acc: 0.8992\n",
      "Epoch 2/5\n",
      "60000/60000 [==============================] - 23s 380us/step - loss: 1.6118 - acc: 0.9000\n",
      "Epoch 3/5\n",
      "60000/60000 [==============================] - 21s 350us/step - loss: 1.6118 - acc: 0.9000\n",
      "Epoch 4/5\n",
      "60000/60000 [==============================] - 22s 369us/step - loss: 1.6118 - acc: 0.9000\n",
      "Epoch 5/5\n",
      "60000/60000 [==============================] - 23s 376us/step - loss: 1.6118 - acc: 0.9000\n",
      "60000/60000 [==============================] - 5s 88us/step\n",
      "For train data\n",
      "\n",
      "acc: 90.00%\n",
      "10000/10000 [==============================] - 1s 86us/step\n",
      "For test data\n",
      "\n",
      "acc: 90.00%\n"
     ]
    }
   ],
   "source": [
    "# create model\n",
    "model = Sequential()\n",
    "model.add(Dense(28*14, input_dim=28*28, activation='relu'))\n",
    "model.add(Dense(28, activation='relu'))\n",
    "model.add(Dense(10, activation='sigmoid'))\n",
    "model.compile(loss='binary_crossentropy', optimizer='adam', metrics=['accuracy'])\n",
    "\n",
    "model.fit(trainX, trainY, epochs=5, batch_size=32)\n",
    "\n",
    "scores = model.evaluate(trainX, trainY)\n",
    "print(\"For train data\")\n",
    "print(\"\\n%s: %.2f%%\" % (model.metrics_names[1], scores[1]*100))\n",
    "\n",
    "scores = model.evaluate(testX, testY)\n",
    "print(\"For test data\")\n",
    "print(\"\\n%s: %.2f%%\" % (model.metrics_names[1], scores[1]*100))"
   ]
  },
  {
   "cell_type": "code",
   "execution_count": 3,
   "metadata": {},
   "outputs": [
    {
     "name": "stdout",
     "output_type": "stream",
     "text": [
      "Epoch 1/5\n",
      "60000/60000 [==============================] - 22s 366us/step - loss: 0.1460 - acc: 0.9515\n",
      "Epoch 2/5\n",
      "60000/60000 [==============================] - 22s 365us/step - loss: 0.0613 - acc: 0.9819\n",
      "Epoch 3/5\n",
      "60000/60000 [==============================] - 22s 371us/step - loss: 0.0500 - acc: 0.9840\n",
      "Epoch 4/5\n",
      "60000/60000 [==============================] - 21s 342us/step - loss: 0.0460 - acc: 0.9849\n",
      "Epoch 5/5\n",
      "60000/60000 [==============================] - 22s 366us/step - loss: 0.0427 - acc: 0.9857\n",
      "60000/60000 [==============================] - 4s 73us/step\n",
      "For train data\n",
      "\n",
      "acc: 98.57%\n",
      "10000/10000 [==============================] - 1s 86us/step\n",
      "For test data\n",
      "\n",
      "acc: 98.59%\n"
     ]
    }
   ],
   "source": [
    "# create model\n",
    "model = Sequential()\n",
    "model.add(Dense(28*14, input_dim=28*28, activation='sigmoid'))\n",
    "model.add(Dense(28, activation='sigmoid'))\n",
    "model.add(Dense(10, activation='sigmoid'))\n",
    "model.compile(loss='binary_crossentropy', optimizer='adam', metrics=['accuracy'])\n",
    "\n",
    "model.fit(trainX, trainY, epochs=5, batch_size=32)\n",
    "\n",
    "scores = model.evaluate(trainX, trainY)\n",
    "print(\"For train data\")\n",
    "print(\"\\n%s: %.2f%%\" % (model.metrics_names[1], scores[1]*100))\n",
    "\n",
    "scores = model.evaluate(testX, testY)\n",
    "print(\"For test data\")\n",
    "print(\"\\n%s: %.2f%%\" % (model.metrics_names[1], scores[1]*100))"
   ]
  },
  {
   "cell_type": "code",
   "execution_count": 29,
   "metadata": {},
   "outputs": [
    {
     "name": "stdout",
     "output_type": "stream",
     "text": [
      "Epoch 1/5\n",
      "60000/60000 [==============================] - 8s 128us/step - loss: 3.2960 - acc: 0.7907\n",
      "Epoch 2/5\n",
      "60000/60000 [==============================] - 7s 119us/step - loss: 0.6628 - acc: 0.9471\n",
      "Epoch 3/5\n",
      "60000/60000 [==============================] - 7s 122us/step - loss: 0.0433 - acc: 0.9878\n",
      "Epoch 4/5\n",
      "60000/60000 [==============================] - 7s 118us/step - loss: 0.0320 - acc: 0.9905\n",
      "Epoch 5/5\n",
      "60000/60000 [==============================] - 7s 121us/step - loss: 0.0260 - acc: 0.9921\n",
      "60000/60000 [==============================] - 3s 42us/step\n",
      "For train data\n",
      "\n",
      "acc: 99.41%\n",
      "10000/10000 [==============================] - 0s 45us/step\n",
      "For test data\n",
      "\n",
      "acc: 99.21%\n"
     ]
    }
   ],
   "source": [
    "# create model\n",
    "model = Sequential()\n",
    "model.add(Dense(96, input_dim=28*28, activation='relu'))\n",
    "model.add(Dense(48, activation='relu'))\n",
    "model.add(Dense(28, activation='relu'))\n",
    "model.add(Dense(10, activation='sigmoid'))\n",
    "model.compile(loss='binary_crossentropy', optimizer='adam', metrics=['accuracy'])\n",
    "\n",
    "model.fit(trainX, trainY, epochs=5, batch_size=32)\n",
    "\n",
    "scores = model.evaluate(trainX, trainY)\n",
    "print(\"For train data\")\n",
    "print(\"\\n%s: %.2f%%\" % (model.metrics_names[1], scores[1]*100))\n",
    "\n",
    "scores = model.evaluate(testX, testY)\n",
    "print(\"For test data\")\n",
    "print(\"\\n%s: %.2f%%\" % (model.metrics_names[1], scores[1]*100))"
   ]
  },
  {
   "cell_type": "code",
   "execution_count": null,
   "metadata": {},
   "outputs": [],
   "source": []
  }
 ],
 "metadata": {
  "kernelspec": {
   "display_name": "Python 3",
   "language": "python",
   "name": "python3"
  },
  "language_info": {
   "codemirror_mode": {
    "name": "ipython",
    "version": 3
   },
   "file_extension": ".py",
   "mimetype": "text/x-python",
   "name": "python",
   "nbconvert_exporter": "python",
   "pygments_lexer": "ipython3",
   "version": "3.6.5"
  }
 },
 "nbformat": 4,
 "nbformat_minor": 2
}
