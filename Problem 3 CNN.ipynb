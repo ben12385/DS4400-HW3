{
 "cells": [
  {
   "cell_type": "code",
   "execution_count": 1,
   "metadata": {},
   "outputs": [
    {
     "name": "stderr",
     "output_type": "stream",
     "text": [
      "C:\\Users\\Ben\\Anaconda3\\lib\\site-packages\\h5py\\__init__.py:36: FutureWarning: Conversion of the second argument of issubdtype from `float` to `np.floating` is deprecated. In future, it will be treated as `np.float64 == np.dtype(float).type`.\n",
      "  from ._conv import register_converters as _register_converters\n",
      "Using TensorFlow backend.\n"
     ]
    },
    {
     "name": "stdout",
     "output_type": "stream",
     "text": [
      "Training and Testing data prepped\n"
     ]
    }
   ],
   "source": [
    "from keras.models import Sequential\n",
    "from keras.datasets import mnist\n",
    "from keras.layers import Dense, Flatten\n",
    "from keras.layers import Conv2D, MaxPooling2D\n",
    "from sklearn.preprocessing import LabelEncoder\n",
    "from sklearn.preprocessing import OneHotEncoder\n",
    "import numpy as np\n",
    "\n",
    "(trainX, trainY), (testX, testY) = mnist.load_data()\n",
    "\n",
    "#Format training data\n",
    "trainX = trainX.reshape(trainX.shape[0], 28, 28, 1)\n",
    "onehot_encoder = OneHotEncoder(sparse=False)\n",
    "trainY = trainY.reshape(len(trainY), 1)\n",
    "trainY = onehot_encoder.fit_transform(trainY)\n",
    "\n",
    "#Format testing data\n",
    "testX = testX.reshape(testX.shape[0], 28, 28, 1)\n",
    "\n",
    "onehot_encoder = OneHotEncoder(sparse=False)\n",
    "testY = testY.reshape(len(testY), 1)\n",
    "testY = onehot_encoder.fit_transform(testY)\n",
    "\n",
    "print(\"Training and Testing data prepped\")"
   ]
  },
  {
   "cell_type": "code",
   "execution_count": 2,
   "metadata": {},
   "outputs": [
    {
     "name": "stdout",
     "output_type": "stream",
     "text": [
      "Epoch 1/5\n",
      "60000/60000 [==============================] - 95s 2ms/step - loss: 0.1183 - acc: 0.9841\n",
      "Epoch 2/5\n",
      "60000/60000 [==============================] - 111s 2ms/step - loss: 0.0127 - acc: 0.9958\n",
      "Epoch 3/5\n",
      "60000/60000 [==============================] - 120s 2ms/step - loss: 0.0094 - acc: 0.9969 0s - loss: 0.0094 - a\n",
      "Epoch 4/5\n",
      "60000/60000 [==============================] - 113s 2ms/step - loss: 0.0079 - acc: 0.9974\n",
      "Epoch 5/5\n",
      "60000/60000 [==============================] - 94s 2ms/step - loss: 0.0062 - acc: 0.9980\n",
      "60000/60000 [==============================] - 34s 564us/step\n",
      "For train data\n",
      "\n",
      "acc: 99.86%\n",
      "10000/10000 [==============================] - 6s 576us/step\n",
      "For test data\n",
      "\n",
      "acc: 99.68%\n"
     ]
    }
   ],
   "source": [
    "model = Sequential()\n",
    "model.add(Conv2D(8, kernel_size=(5, 5), strides=(1, 1), activation='relu', input_shape=[28, 28, 1]))\n",
    "model.add(Conv2D(16, (5, 5), activation='relu'))\n",
    "model.add(MaxPooling2D(pool_size=(2, 2), strides=(2, 2)))\n",
    "model.add(Flatten())\n",
    "model.add(Dense(50, activation='relu'))\n",
    "model.add(Dense(10, activation='sigmoid'))\n",
    "\n",
    "model.compile(loss='binary_crossentropy', optimizer='adam', metrics=['accuracy'])\n",
    "\n",
    "model.fit(trainX, trainY, epochs=5, batch_size=32)\n",
    "\n",
    "scores = model.evaluate(trainX, trainY)\n",
    "print(\"For train data\")\n",
    "print(\"\\n%s: %.2f%%\" % (model.metrics_names[1], scores[1]*100))\n",
    "\n",
    "scores = model.evaluate(testX, testY)\n",
    "print(\"For test data\")\n",
    "print(\"\\n%s: %.2f%%\" % (model.metrics_names[1], scores[1]*100))"
   ]
  },
  {
   "cell_type": "code",
   "execution_count": 3,
   "metadata": {},
   "outputs": [
    {
     "name": "stdout",
     "output_type": "stream",
     "text": [
      "Epoch 1/5\n",
      "60000/60000 [==============================] - 73s 1ms/step - loss: 0.0487 - acc: 0.9849\n",
      "Epoch 2/5\n",
      "60000/60000 [==============================] - 74s 1ms/step - loss: 0.0140 - acc: 0.9955\n",
      "Epoch 3/5\n",
      "60000/60000 [==============================] - 72s 1ms/step - loss: 0.0111 - acc: 0.9963\n",
      "Epoch 4/5\n",
      "60000/60000 [==============================] - 71s 1ms/step - loss: 0.0094 - acc: 0.9969\n",
      "Epoch 5/5\n",
      "60000/60000 [==============================] - 65s 1ms/step - loss: 0.0086 - acc: 0.9972: 1s - \n",
      "60000/60000 [==============================] - 23s 391us/step\n",
      "For train data\n",
      "\n",
      "acc: 99.79%\n",
      "10000/10000 [==============================] - 4s 422us/step\n",
      "For test data\n",
      "\n",
      "acc: 99.70%\n"
     ]
    }
   ],
   "source": [
    "model = Sequential()\n",
    "model.add(Conv2D(4, kernel_size=(5, 5), strides=(1, 1), activation='relu', input_shape=[28, 28, 1]))\n",
    "model.add(Conv2D(8, (5, 5), activation='relu'))\n",
    "model.add(MaxPooling2D(pool_size=(2, 2), strides=(2, 2)))\n",
    "model.add(Conv2D(16, kernel_size=(5, 5), strides=(1, 1), activation='relu', input_shape=[28, 28, 1]))\n",
    "model.add(Conv2D(32, (5, 5), activation='relu'))\n",
    "model.add(MaxPooling2D(pool_size=(2, 2), strides=(2, 2)))\n",
    "model.add(Flatten())\n",
    "model.add(Dense(50, activation='relu'))\n",
    "model.add(Dense(10, activation='sigmoid'))\n",
    "\n",
    "model.compile(loss='binary_crossentropy', optimizer='adam', metrics=['accuracy'])\n",
    "\n",
    "model.fit(trainX, trainY, epochs=5, batch_size=32)\n",
    "\n",
    "scores = model.evaluate(trainX, trainY)\n",
    "print(\"For train data\")\n",
    "print(\"\\n%s: %.2f%%\" % (model.metrics_names[1], scores[1]*100))\n",
    "\n",
    "scores = model.evaluate(testX, testY)\n",
    "print(\"For test data\")\n",
    "print(\"\\n%s: %.2f%%\" % (model.metrics_names[1], scores[1]*100))"
   ]
  },
  {
   "cell_type": "code",
   "execution_count": 4,
   "metadata": {},
   "outputs": [
    {
     "name": "stdout",
     "output_type": "stream",
     "text": [
      "Epoch 1/5\n",
      "60000/60000 [==============================] - 71s 1ms/step - loss: 0.0610 - acc: 0.9820\n",
      "Epoch 2/5\n",
      "60000/60000 [==============================] - 65s 1ms/step - loss: 0.0166 - acc: 0.9946:\n",
      "Epoch 3/5\n",
      "60000/60000 [==============================] - 64s 1ms/step - loss: 0.0130 - acc: 0.9957\n",
      "Epoch 4/5\n",
      "60000/60000 [==============================] - 55s 919us/step - loss: 0.0113 - acc: 0.9964\n",
      "Epoch 5/5\n",
      "60000/60000 [==============================] - 55s 924us/step - loss: 0.0098 - acc: 0.9968\n",
      "60000/60000 [==============================] - 23s 377us/step\n",
      "For train data\n",
      "\n",
      "acc: 99.71%\n",
      "10000/10000 [==============================] - 4s 411us/step\n",
      "For test data\n",
      "\n",
      "acc: 99.65%\n"
     ]
    }
   ],
   "source": [
    "model = Sequential()\n",
    "model.add(Conv2D(4, kernel_size=(5, 5), strides=(1, 1), activation='relu', input_shape=[28, 28, 1]))\n",
    "model.add(Conv2D(8, (5, 5), activation='relu'))\n",
    "model.add(MaxPooling2D(pool_size=(2, 2), strides=(2, 2)))\n",
    "model.add(Conv2D(16, kernel_size=(5, 5), strides=(1, 1), activation='relu', input_shape=[28, 28, 1]))\n",
    "model.add(Conv2D(32, (5, 5), activation='relu'))\n",
    "model.add(MaxPooling2D(pool_size=(2, 2), strides=(2, 2)))\n",
    "model.add(Flatten())\n",
    "model.add(Dense(100, activation='relu'))\n",
    "model.add(Dense(10, activation='sigmoid'))\n",
    "\n",
    "model.compile(loss='binary_crossentropy', optimizer='adam', metrics=['accuracy'])\n",
    "\n",
    "model.fit(trainX, trainY, epochs=5, batch_size=32)\n",
    "\n",
    "scores = model.evaluate(trainX, trainY)\n",
    "print(\"For train data\")\n",
    "print(\"\\n%s: %.2f%%\" % (model.metrics_names[1], scores[1]*100))\n",
    "\n",
    "scores = model.evaluate(testX, testY)\n",
    "print(\"For test data\")\n",
    "print(\"\\n%s: %.2f%%\" % (model.metrics_names[1], scores[1]*100))"
   ]
  },
  {
   "cell_type": "code",
   "execution_count": null,
   "metadata": {},
   "outputs": [],
   "source": []
  }
 ],
 "metadata": {
  "kernelspec": {
   "display_name": "Python 3",
   "language": "python",
   "name": "python3"
  },
  "language_info": {
   "codemirror_mode": {
    "name": "ipython",
    "version": 3
   },
   "file_extension": ".py",
   "mimetype": "text/x-python",
   "name": "python",
   "nbconvert_exporter": "python",
   "pygments_lexer": "ipython3",
   "version": "3.6.5"
  }
 },
 "nbformat": 4,
 "nbformat_minor": 2
}
